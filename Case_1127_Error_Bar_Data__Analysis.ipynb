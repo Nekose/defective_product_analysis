{
  "nbformat": 4,
  "nbformat_minor": 0,
  "metadata": {
    "colab": {
      "name": "Case 1127 Error_Bar_Data _Analysis.ipynb",
      "provenance": [],
      "collapsed_sections": [],
      "mount_file_id": "1dslkPlVZr-Bz_T56ylKBbKgFhgiDZT2l",
      "authorship_tag": "ABX9TyOnNEVtCuW4R5zmWWaQZWOS",
      "include_colab_link": true
    },
    "kernelspec": {
      "name": "python3",
      "display_name": "Python 3"
    },
    "language_info": {
      "name": "python"
    }
  },
  "cells": [
    {
      "cell_type": "markdown",
      "metadata": {
        "id": "view-in-github",
        "colab_type": "text"
      },
      "source": [
        "<a href=\"https://colab.research.google.com/github/Nekose/defective_product_analysis/blob/main/Case_1127_Error_Bar_Data__Analysis.ipynb\" target=\"_parent\"><img src=\"https://colab.research.google.com/assets/colab-badge.svg\" alt=\"Open In Colab\"/></a>"
      ]
    },
    {
      "cell_type": "code",
      "metadata": {
        "id": "2HqUszEh_yX9"
      },
      "source": [
        "from google.colab import auth\n",
        "auth.authenticate_user()\n",
        "import gspread\n",
        "from oauth2client.client import GoogleCredentials\n",
        "gc = gspread.authorize(GoogleCredentials.get_application_default())\n",
        "import pandas as pd\n",
        "import seaborn as sns\n",
        "import matplotlib.pyplot as plt\n",
        "import numpy as np\n",
        "from string import ascii_letters\n",
        "sns.set_palette(\"colorblind\")\n",
        "sns.color_palette(\"colorblind\")\n",
        "\n",
        "\n"
      ],
      "execution_count": null,
      "outputs": []
    },
    {
      "cell_type": "code",
      "metadata": {
        "id": "jmEFbm4DjiEf"
      },
      "source": [
        "sheet = gc.open_by_url('https://docs.google.com/spreadsheets/d/1ezb5uEaENxewiuzzYL0DGljBnIxxdrpgz9hRZ6DuIkk/edit#gid=1970608533')\n",
        "worksheet = sheet.worksheet(\"Long Form Data\")\n",
        "all_values = worksheet.get_all_values()\n",
        "for pos1,row in enumerate(all_values):\n",
        "    if pos1 == 0:\n",
        "        continue\n",
        "    for pos2,val in enumerate(row):\n",
        "        if pos2 == 0:\n",
        "           continue\n",
        "        elif val == \"\" or val == \"N/A\":\n",
        "            all_values[pos1][pos2] = None\n",
        "        else:\n",
        "            try:\n",
        "                all_values[pos1][pos2] = int(val)\n",
        "            except:\n",
        "                pass"
      ],
      "execution_count": null,
      "outputs": []
    },
    {
      "cell_type": "code",
      "metadata": {
        "id": "C00gsQ9LDwMa"
      },
      "source": [
        "df = pd.DataFrame(all_values[1:],columns=all_values[0],dtype=int)\n",
        "#df.drop(\"Dilution\",axis=1,inplace=True)\n",
        "s = df[\"Slide Lot\"]\n",
        "df[\"Slide Lot\"] = pd.to_numeric(s)\n",
        "newlot = df[df[\"Slide Lot\"] == 2134106]"
      ],
      "execution_count": null,
      "outputs": []
    },
    {
      "cell_type": "code",
      "metadata": {
        "id": "3p3SmF30Fzbq"
      },
      "source": [
        "\n",
        "fig, ax = plt.subplots()\n",
        "fig.set_size_inches(25, 10)\n",
        "ax = sns.barplot(data=df, x=\"Slide Lot\", y=\"Intensity\",hue=\"Configuration\",capsize=.05,ci=99,dodge=False)\n",
        "ax.set_xticklabels(ax.get_xticklabels(),rotation = 45)"
      ],
      "execution_count": null,
      "outputs": []
    },
    {
      "cell_type": "code",
      "metadata": {
        "id": "NuzcDYn3u-Q1"
      },
      "source": [
        "fig, ax = plt.subplots()\n",
        "fig.set_size_inches(25, 10)\n",
        "ax = sns.barplot(data=df21, x=\"Slide Lot\", y=\"Intensity\",hue=\"Conjugate\",capsize=.05,ci=99,dodge=False)\n",
        "ax.set_xticklabels(ax.get_xticklabels(),rotation = 45)"
      ],
      "execution_count": null,
      "outputs": []
    },
    {
      "cell_type": "code",
      "metadata": {
        "id": "1Q8OAT35hCbG"
      },
      "source": [
        "fig, ax = plt.subplots()\n",
        "fig.set_size_inches(25, 10)\n",
        "ax = sns.barplot(data=df, x=\"Slide Lot\", y=\"Intensity\",hue=\"RPMI\",capsize=.05,ci=99,dodge=False)\n",
        "ax.set_xticklabels(ax.get_xticklabels(),rotation = 45)"
      ],
      "execution_count": null,
      "outputs": []
    },
    {
      "cell_type": "code",
      "metadata": {
        "id": "aHS8lAHDhkZq"
      },
      "source": [
        "fig, ax = plt.subplots()\n",
        "fig.set_size_inches(25, 10)\n",
        "ax = sns.violinplot(data=df,x=\"Slide Lot\",y=\"Intensity\",hue=\"Cell Line\", dodge=False)\n",
        "ax.set_xticklabels(ax.get_xticklabels(),rotation = 45)\n",
        "plt.ticklabel_format(style='plain', axis='y')\n",
        "sns.move_legend(ax, \"upper left\", bbox_to_anchor=(1, 1))"
      ],
      "execution_count": null,
      "outputs": []
    },
    {
      "cell_type": "code",
      "metadata": {
        "id": "UEKJpH7JzvnK"
      },
      "source": [
        "ax = sns.lmplot(x=\"Slide Lot\",y=\"Intensity\",data=df2,height=10,aspect=2)\n",
        "plt.ticklabel_format(style='plain', axis='x')"
      ],
      "execution_count": null,
      "outputs": []
    },
    {
      "cell_type": "code",
      "source": [
        "display(newlot)\n",
        "fig, ax = plt.subplots()\n",
        "fig.set_size_inches(5, 10)\n",
        "ax = sns.violinplot(data=newlot,x=\"Slide Lot\",y=\"Intensity\",hue=\"Conjugate\",split=True,inner=\"quart\")\n",
        "ax.set_xticklabels(ax.get_xticklabels(),rotation = 45)\n",
        "plt.ticklabel_format(style='plain', axis='y')\n",
        "#sns.move_legend(ax, \"upper left\", bbox_to_anchor=(1, 1))"
      ],
      "metadata": {
        "id": "fC7FbfJ4JJCu"
      },
      "execution_count": null,
      "outputs": []
    }
  ]
}